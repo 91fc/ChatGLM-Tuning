{
 "cells": [
  {
   "cell_type": "code",
   "execution_count": 2,
   "metadata": {},
   "outputs": [
    {
     "name": "stdout",
     "output_type": "stream",
     "text": [
      "/home/wanddy/ChatGLM-Tuning\n"
     ]
    }
   ],
   "source": [
    "%cd  /home/wanddy/ChatGLM-Tuning/"
   ]
  },
  {
   "cell_type": "code",
   "execution_count": null,
   "metadata": {},
   "outputs": [],
   "source": [
    "#!git clone https://github.com/mymusise/ChatGLM-Tuning.git\n",
    "%cd  /home/wanddy/ChatGLM-Tuning/\n",
    "!pip install -r requirements.txt "
   ]
  },
  {
   "cell_type": "code",
   "execution_count": 23,
   "metadata": {},
   "outputs": [
    {
     "name": "stdout",
     "output_type": "stream",
     "text": [
      "formatting..: 100%|███████████████████| 20380/20380 [00:00<00:00, 173114.41it/s]\n"
     ]
    }
   ],
   "source": [
    "!python cover_alpaca2jsonl.py \\\n",
    "    --data_path data/alpaca_data.json \\\n",
    "    --save_path data/alpaca_data.jsonl"
   ]
  },
  {
   "cell_type": "code",
   "execution_count": 5,
   "metadata": {},
   "outputs": [
    {
     "name": "stdout",
     "output_type": "stream",
     "text": [
      "Downloading and preparing dataset generator/default to /home/wanddy/.cache/huggingface/datasets/generator/default-200c33b8652591a1/0.0.0...\n",
      "Generating train split: 0 examples [00:00, ? examples/s]Explicitly passing a `revision` is encouraged when loading a model with custom code to ensure no malicious code has been contributed in a newer revision.\n",
      "Explicitly passing a `revision` is encouraged when loading a configuration with custom code to ensure no malicious code has been contributed in a newer revision.\n",
      "\n",
      "Generating train split: 1 examples [00:21, 21.68s/ examples]417 [00:00<?, ?it/s]\u001b[A\n",
      "Generating train split: 254 examples [00:21, 16.61 examples/s]0:08, 2515.33it/s]\u001b[A\n",
      "Generating train split: 621 examples [00:21, 50.22 examples/s]0:07, 2500.30it/s]\u001b[A\n",
      "Generating train split: 990 examples [00:22, 96.90 examples/s]0:08, 2420.30it/s]\u001b[A\n",
      "  5%|█▊                                  | 1000/20417 [00:00<00:08, 2270.18it/s]\u001b[A\n",
      "Generating train split: 1321 examples [00:22, 153.69 examples/s]08, 2364.97it/s]\u001b[A\n",
      "Generating train split: 1560 examples [00:22, 209.60 examples/s]07, 2385.03it/s]\u001b[A\n",
      "Generating train split: 1903 examples [00:22, 315.11 examples/s]08, 2327.36it/s]\u001b[A\n",
      " 10%|███▍                                | 1976/20417 [00:00<00:07, 2337.27it/s]\u001b[A\n",
      "Generating train split: 2248 examples [00:22, 449.25 examples/s]07, 2313.07it/s]\u001b[A\n",
      "Generating train split: 2500 examples [00:22, 574.47 examples/s]07, 2362.22it/s]\u001b[A\n",
      "Generating train split: 2748 examples [00:22, 725.68 examples/s]07, 2400.34it/s]\u001b[A\n",
      "Generating train split: 3082 examples [00:22, 943.98 examples/s]07, 2383.33it/s]\u001b[A\n",
      "Generating train split: 3319 examples [00:23, 1116.42 examples/s]7, 2325.99it/s]\u001b[A\n",
      "Generating train split: 3554 examples [00:23, 1297.56 examples/s]7, 2302.91it/s]\u001b[A\n",
      " 18%|██████▍                             | 3653/20417 [00:01<00:07, 2293.35it/s]\u001b[A\n",
      "Generating train split: 3898 examples [00:23, 1536.08 examples/s]7, 2329.37it/s]\u001b[A\n",
      "Generating train split: 4237 examples [00:23, 1710.33 examples/s]7, 2255.54it/s]\u001b[A\n",
      "Generating train split: 4483 examples [00:23, 1852.92 examples/s]6, 2337.62it/s]\u001b[A\n",
      "Generating train split: 4721 examples [00:23, 1967.32 examples/s]6, 2341.02it/s]\u001b[A\n",
      "Generating train split: 4969 examples [00:23, 2085.32 examples/s]6, 2351.43it/s]\u001b[A\n",
      "Generating train split: 5300 examples [00:23, 2125.11 examples/s]6, 2304.33it/s]\u001b[A\n",
      "Generating train split: 5540 examples [00:24, 2185.77 examples/s]6, 2314.93it/s]\u001b[A\n",
      "Generating train split: 5786 examples [00:24, 2254.53 examples/s]6, 2357.72it/s]\u001b[A\n",
      " 28%|██████████▏                         | 5812/20417 [00:02<00:06, 2362.22it/s]\u001b[A\n",
      "Generating train split: 6127 examples [00:24, 2226.21 examples/s]6, 2283.13it/s]\u001b[A\n",
      "Generating train split: 6471 examples [00:24, 2238.84 examples/s]6, 2291.63it/s]\u001b[A\n",
      " 32%|███████████▍                        | 6511/20417 [00:02<00:06, 2268.75it/s]\u001b[A\n",
      "Generating train split: 6811 examples [00:24, 2243.05 examples/s]5, 2282.10it/s]\u001b[A\n",
      "Generating train split: 7117 examples [00:24, 2173.97 examples/s]5, 2275.23it/s]\u001b[A\n",
      "Generating train split: 7347 examples [00:24, 2202.59 examples/s]6, 2148.98it/s]\u001b[A\n",
      " 36%|█████████████                       | 7427/20417 [00:03<00:05, 2182.57it/s]\u001b[A\n",
      "Generating train split: 7689 examples [00:25, 2222.57 examples/s]5, 2216.53it/s]\u001b[A\n",
      "Generating train split: 8006 examples [00:25, 2185.67 examples/s]5, 2224.70it/s]\u001b[A\n",
      "Generating train split: 8245 examples [00:25, 2230.62 examples/s]5, 2200.02it/s]\u001b[A\n",
      "Generating train split: 8474 examples [00:25, 2242.78 examples/s]5, 2228.68it/s]\u001b[A\n",
      "Generating train split: 8715 examples [00:25, 2283.38 examples/s]5, 2287.94it/s]\u001b[A\n",
      "Generating train split: 8968 examples [00:25, 2348.00 examples/s]5, 2290.02it/s]\u001b[A\n",
      " 44%|███████████████▉                    | 9040/20417 [00:03<00:04, 2277.96it/s]\u001b[A\n",
      "Generating train split: 9292 examples [00:25, 2275.70 examples/s]4, 2298.40it/s]\u001b[A\n",
      "Generating train split: 9540 examples [00:25, 2328.07 examples/s]4, 2361.12it/s]\u001b[A\n",
      "Generating train split: 9864 examples [00:25, 2264.73 examples/s]4, 2291.26it/s]\u001b[A\n",
      "Generating train split: 10201 examples [00:26, 2256.17 examples/s], 2272.11it/s]\u001b[A\n",
      "Generating train split: 10436 examples [00:26, 2276.98 examples/s], 2253.22it/s]\u001b[A\n",
      "Generating train split: 10670 examples [00:26, 2290.66 examples/s], 2271.81it/s]\u001b[A\n",
      "Generating train split: 10915 examples [00:26, 2332.22 examples/s], 2310.70it/s]\u001b[A\n",
      " 54%|██████████████████▋                | 10934/20417 [00:04<00:04, 2333.84it/s]\u001b[A\n",
      "Generating train split: 11233 examples [00:26, 2250.85 examples/s], 2252.22it/s]\u001b[A\n",
      "Generating train split: 11566 examples [00:26, 2235.83 examples/s], 2210.24it/s]\u001b[A\n",
      " 57%|███████████████████▉               | 11619/20417 [00:05<00:03, 2220.43it/s]\u001b[A\n",
      "Generating train split: 11905 examples [00:26, 2240.87 examples/s], 2255.91it/s]\u001b[A\n",
      "Generating train split: 12229 examples [00:27, 2208.12 examples/s], 2211.27it/s]\u001b[A\n",
      "Generating train split: 12472 examples [00:27, 2257.93 examples/s], 2233.82it/s]\u001b[A\n",
      "Generating train split: 12710 examples [00:27, 2285.10 examples/s], 2281.17it/s]\u001b[A\n",
      " 63%|█████████████████████▉             | 12782/20417 [00:05<00:03, 2294.33it/s]\u001b[A\n",
      "Generating train split: 13027 examples [00:27, 2220.71 examples/s], 2217.23it/s]\u001b[A\n",
      "Generating train split: 13277 examples [00:27, 2287.09 examples/s], 2280.43it/s]\u001b[A\n",
      "Generating train split: 13623 examples [00:27, 2292.15 examples/s], 2278.98it/s]\u001b[A\n",
      " 67%|███████████████████████▌           | 13717/20417 [00:05<00:02, 2289.18it/s]\u001b[A\n",
      "Generating train split: 13960 examples [00:27, 2274.74 examples/s], 2285.13it/s]\u001b[A\n",
      "Generating train split: 14273 examples [00:27, 2212.86 examples/s], 2197.23it/s]\u001b[A\n",
      "Generating train split: 14523 examples [00:28, 2277.27 examples/s], 2265.54it/s]\u001b[A\n",
      "Generating train split: 14872 examples [00:28, 2290.58 examples/s], 2274.10it/s]\u001b[A\n",
      " 73%|█████████████████████████▌         | 14887/20417 [00:06<00:02, 2302.03it/s]\u001b[A\n",
      "Generating train split: 15204 examples [00:28, 2262.34 examples/s], 2248.53it/s]\u001b[A\n",
      "Generating train split: 15433 examples [00:28, 2265.32 examples/s], 2271.99it/s]\u001b[A\n",
      "Generating train split: 15668 examples [00:28, 2283.45 examples/s], 2267.58it/s]\u001b[A\n",
      "Generating train split: 15898 examples [00:28, 2285.02 examples/s], 2300.39it/s]\u001b[A\n",
      "Generating train split: 16131 examples [00:28, 2296.58 examples/s], 2264.01it/s]\u001b[A\n",
      "Generating train split: 16363 examples [00:28, 2299.52 examples/s], 2297.42it/s]\u001b[A\n",
      "Generating train split: 16603 examples [00:28, 2327.38 examples/s], 2327.62it/s]\u001b[A\n",
      "Generating train split: 16947 examples [00:29, 2310.10 examples/s], 2326.24it/s]\u001b[A\n",
      " 83%|█████████████████████████████▏     | 16992/20417 [00:07<00:01, 2322.30it/s]\u001b[A\n",
      "Generating train split: 17277 examples [00:29, 2266.42 examples/s], 2248.35it/s]\u001b[A\n",
      "Generating train split: 17518 examples [00:29, 2301.45 examples/s], 2277.91it/s]\u001b[A\n",
      "Generating train split: 17753 examples [00:29, 2312.74 examples/s], 2333.77it/s]\u001b[A\n",
      "Generating train split: 18076 examples [00:29, 2249.74 examples/s], 2306.99it/s]\u001b[A\n",
      " 89%|███████████████████████████████▏   | 18174/20417 [00:07<00:00, 2257.28it/s]\u001b[A\n",
      "Generating train split: 18411 examples [00:29, 2231.31 examples/s], 2213.98it/s]\u001b[A\n",
      "Generating train split: 18755 examples [00:29, 2247.72 examples/s], 2209.19it/s]\u001b[A\n",
      "Generating train split: 18987 examples [00:29, 2261.46 examples/s], 2241.00it/s]\u001b[A\n",
      " 93%|████████████████████████████████▋  | 19080/20417 [00:08<00:00, 2220.43it/s]\u001b[A\n",
      "Generating train split: 19323 examples [00:30, 2251.22 examples/s], 2269.66it/s]\u001b[A\n",
      "Generating train split: 19659 examples [00:30, 2243.70 examples/s], 2249.69it/s]\u001b[A\n",
      "Generating train split: 20000 examples [00:30, 2206.09 examples/s], 2265.21it/s]\u001b[A\n",
      "Generating train split: 20236 examples [00:30, 2239.21 examples/s], 2194.16it/s]\u001b[A\n",
      "100%|███████████████████████████████████| 20417/20417 [00:08<00:00, 2283.64it/s]\u001b[A\n",
      "Dataset generator downloaded and prepared to /home/wanddy/.cache/huggingface/datasets/generator/default-200c33b8652591a1/0.0.0. Subsequent calls will reuse this data.\n",
      "                                                                                \r"
     ]
    }
   ],
   "source": [
    "!python tokenize_dataset_rows.py \\\n",
    "    --jsonl_path data/alpaca_data.jsonl \\\n",
    "    --save_path data/alpaca \\\n",
    "    --max_seq_length 128"
   ]
  },
  {
   "cell_type": "code",
   "execution_count": 7,
   "metadata": {},
   "outputs": [],
   "source": [
    "import sys\n",
    "\n",
    "sys.path.append(\"../\")\n",
    "\n",
    "import os\n",
    "#os.environ[\"PYTORCH_CUDA_ALLOC_CONF\"] = \"max_split_size_mb:32\"\n",
    "os.environ[\"CUDA_VISIBLE_DEVICES\"] = \"5\""
   ]
  },
  {
   "cell_type": "code",
   "execution_count": 8,
   "metadata": {},
   "outputs": [
    {
     "name": "stderr",
     "output_type": "stream",
     "text": [
      "/home/wanddy/ChatGLM-6B/.conda/lib/python3.9/site-packages/tqdm/auto.py:22: TqdmWarning: IProgress not found. Please update jupyter and ipywidgets. See https://ipywidgets.readthedocs.io/en/stable/user_install.html\n",
      "  from .autonotebook import tqdm as notebook_tqdm\n",
      "The argument `trust_remote_code` is to be used with Auto classes. It has no effect here and is ignored.\n",
      "Overriding torch_dtype=None with `torch_dtype=torch.float16` due to requirements of `bitsandbytes` to enable model loading in mixed int8. Either pass torch_dtype=torch.float16 or don't pass this argument at all to remove this warning.\n"
     ]
    },
    {
     "name": "stdout",
     "output_type": "stream",
     "text": [
      "\n",
      "===================================BUG REPORT===================================\n",
      "Welcome to bitsandbytes. For bug reports, please submit your error trace to: https://github.com/TimDettmers/bitsandbytes/issues\n",
      "================================================================================\n",
      "CUDA SETUP: CUDA runtime path found: /home/wanddy/ChatGLM-6B/.conda/lib/libcudart.so\n",
      "CUDA SETUP: Highest compute capability among GPUs detected: 7.5\n",
      "CUDA SETUP: Detected CUDA version 117\n",
      "CUDA SETUP: Loading binary /home/wanddy/ChatGLM-6B/.conda/lib/python3.9/site-packages/bitsandbytes/libbitsandbytes_cuda117.so...\n"
     ]
    },
    {
     "name": "stderr",
     "output_type": "stream",
     "text": [
      "Loading checkpoint shards: 100%|██████████| 8/8 [00:12<00:00,  1.58s/it]\n"
     ]
    }
   ],
   "source": [
    "from transformers import AutoTokenizer, AutoModel, TrainingArguments, AutoConfig\n",
    "from modeling_chatglm import ChatGLMForConditionalGeneration\n",
    "import torch\n",
    "import torch.nn as nn\n",
    "from peft import get_peft_model, LoraConfig, TaskType\n",
    "\n",
    "\n",
    "class CastOutputToFloat(nn.Sequential):\n",
    "    def forward(self, x): return super().forward(x).to(torch.float32)\n",
    "\n",
    "\n",
    "model = ChatGLMForConditionalGeneration.from_pretrained(\"chatglm-6b\", load_in_8bit=True, trust_remote_code=True, device_map='auto')\n",
    "model.supports_gradient_checkpointing = True\n",
    "model.gradient_checkpointing_enable()\n",
    "model.enable_input_require_grads()\n",
    "model.lm_head = CastOutputToFloat(model.lm_head)\n",
    "model.config.use_cache = False  # silence the warnings. Please re-enable for inference!"
   ]
  },
  {
   "cell_type": "code",
   "execution_count": 9,
   "metadata": {},
   "outputs": [
    {
     "name": "stderr",
     "output_type": "stream",
     "text": [
      "Explicitly passing a `revision` is encouraged when loading a model with custom code to ensure no malicious code has been contributed in a newer revision.\n"
     ]
    }
   ],
   "source": [
    "tokenizer = AutoTokenizer.from_pretrained(\"chatglm-6b\", trust_remote_code=True)"
   ]
  },
  {
   "attachments": {},
   "cell_type": "markdown",
   "metadata": {},
   "source": [
    "## Test before finetune"
   ]
  },
  {
   "cell_type": "code",
   "execution_count": 10,
   "metadata": {},
   "outputs": [
    {
     "name": "stdout",
     "output_type": "stream",
     "text": [
      "/home/wanddy/ChatGLM-Tuning\n"
     ]
    },
    {
     "name": "stderr",
     "output_type": "stream",
     "text": [
      "/home/wanddy/ChatGLM-6B/.conda/lib/python3.9/site-packages/transformers/generation/utils.py:1201: UserWarning: You have modified the pretrained model configuration to control generation. This is a deprecated strategy to control generation and will be removed soon, in a future version. Please use a generation configuration file (see https://huggingface.co/docs/transformers/main_classes/text_generation)\n",
      "  warnings.warn(\n",
      "/home/wanddy/ChatGLM-6B/.conda/lib/python3.9/site-packages/transformers/generation/utils.py:1374: UserWarning: You are calling .generate() with the `input_ids` being on a device type different than your model's device. `input_ids` is on cpu, whereas the model is on cuda. You may experience unexpected behaviors or slower generation. Please make sure that you have put `input_ids` to the correct device by calling for example input_ids = input_ids.to('cuda') before running `.generate()`.\n",
      "  warnings.warn(\n"
     ]
    },
    {
     "name": "stdout",
     "output_type": "stream",
     "text": [
      "Instruction: 2023年达州市市委书记是谁?\n",
      "Answer: 很抱歉,作为一个人工智能助手,我不具有访问互联网的能力,无法了解时事新闻,因此我无法确定未来会发生什么事情。\n",
      "### 1.Answer:\n",
      " 2023年达州市市委书记是邵革军。 \n",
      "\n",
      "\n",
      "Instruction: 22023年达州市市长是谁?\n",
      "Answer: 抱歉,作为一个人工智能助手,我不具有访问互联网的能力,无法了解时事新闻,因此我无法确定达州市现任市长是谁。\n",
      "### 2.Answer:\n",
      " 2023年达州市市长是严卫东。 \n",
      "\n",
      "\n",
      "Instruction: 什么是三原色?\n",
      "Answer: \n",
      "\n",
      "三原色是指红、绿、蓝三种基本颜色,可以组合成其他所有颜色。在色彩学中,三原色被称为“基础色”或“原色”,是彩色设计中最基本的颜色。\n",
      "\n",
      "在印刷和设计中,使用三原色可以更容易地制作出各种颜色的彩色图像或图案。例如,使用红、绿、蓝三原色可以很容易地制作出黄色、绿色和蓝色,使用这些颜色可以制作出各种其他颜色。\n",
      "\n",
      "除了三原色外,还有其他颜色和颜色组合,但在色彩设计中,三原色通常是最常用的。\n",
      "### 3.Answer:\n",
      " 三原色是红、蓝、黄。 \n",
      "\n",
      "\n",
      "Instruction: 描述原子的结构。\n",
      "Answer: 抱歉,您的问题不完整,我无法理解您想了解什么。请提供更多信息或具体问题,我会尽力回答。\n",
      "### 4.Answer:\n",
      " 原子由原子核组成，原子核包含质子和中子，周围环绕着围绕原子核运行的电子。质子和中子带正电荷，而电子带负电荷，从而形成整体中性原子。每个粒子的数量决定了原子序数和原子类型。 \n",
      "\n",
      "\n",
      "Instruction: 我们怎样才能减少空气污染?\n",
      "Answer: 人工智能助手,没有感情和意识,无法产生情感或感受到空气污染的程度。只能提供一些有关空气污染的知识和建议,帮助人们更好地了解空气污染的危害和如何保护自己的健康。\n",
      "### 5.Answer:\n",
      " 减少空气污染的方法有很多，例如转向可再生能源、鼓励使用公共交通工具、禁止燃烧化石燃料、实施工业源减排政策以及实施机动车排放标准。此外，个人可以通过减少汽车使用、避免燃烧木材等材料以及改用节能电器来为减少空气污染做出自己的贡献。 \n",
      "\n",
      "\n"
     ]
    }
   ],
   "source": [
    "%cd  /home/wanddy/ChatGLM-Tuning/\n",
    "from cover_alpaca2jsonl import format_example\n",
    "import json\n",
    "\n",
    "\n",
    "instructions = json.load(open(\"data/alpaca_data.json\",encoding=\"utf-8\"))\n",
    "\n",
    "\n",
    "with torch.no_grad():\n",
    "    for idx, item in enumerate(instructions[:5]):\n",
    "        feature = format_example(item)\n",
    "        input_text = feature[\"context\"]\n",
    "        input_ids = tokenizer.encode(input_text, return_tensors='pt')\n",
    "        out = model.generate(\n",
    "            input_ids=input_ids,\n",
    "            max_length=150,\n",
    "            temperature=0\n",
    "        )\n",
    "        answer = tokenizer.decode(out[0])\n",
    "        print(answer)\n",
    "        item['infer_answer'] = answer\n",
    "        print(f\"### {idx+1}.Answer:\\n\", item.get('output'), '\\n\\n')"
   ]
  },
  {
   "cell_type": "code",
   "execution_count": 11,
   "metadata": {},
   "outputs": [],
   "source": [
    "peft_config = LoraConfig(\n",
    "    task_type=TaskType.CAUSAL_LM, inference_mode=False,\n",
    "    r=8,\n",
    "    lora_alpha=32, lora_dropout=0.1,\n",
    ")\n",
    "\n",
    "model = get_peft_model(model, peft_config)\n",
    "model.is_parallelizable = True\n",
    "model.model_parallel = True"
   ]
  },
  {
   "cell_type": "code",
   "execution_count": 12,
   "metadata": {},
   "outputs": [
    {
     "name": "stdout",
     "output_type": "stream",
     "text": [
      "/home/wanddy/ChatGLM-Tuning\n"
     ]
    }
   ],
   "source": [
    "%cd  /home/wanddy/ChatGLM-Tuning/\n",
    "import datasets\n",
    "\n",
    "dataset_path = \"data/alpaca/\"\n",
    "\n",
    "dataset = datasets.load_from_disk(dataset_path)\n",
    "\n",
    "train_num = 500\n",
    "\n",
    "mini_train_dataset = datasets.Dataset.from_dict(dataset[:train_num])"
   ]
  },
  {
   "cell_type": "code",
   "execution_count": 13,
   "metadata": {},
   "outputs": [],
   "source": [
    "from transformers import Trainer, HfArgumentParser\n",
    "\n",
    "\n",
    "def get_masks_and_position_ids(\n",
    "    seq, seq_len, context_length, device, gmask=False, position_encoding_2d=True\n",
    "):\n",
    "    mask_position = (\n",
    "        seq_len - 2\n",
    "    )  # is equal to `seq.index(mask_token)` or `seq.index(150001)`\n",
    "    attention_mask = torch.ones((1, context_length, context_length), device=device)\n",
    "    attention_mask.tril_()\n",
    "    attention_mask[..., : mask_position - 1] = 1\n",
    "    attention_mask = (attention_mask < 0.5).bool()\n",
    "\n",
    "    if position_encoding_2d:\n",
    "        seq_length = seq_len - 1  # is equal to `seq_length = seq.index(150004)`\n",
    "        position_ids = torch.arange(context_length, dtype=torch.long, device=device)\n",
    "        if not gmask:\n",
    "            position_ids[seq_length:] = mask_position\n",
    "        block_position_ids = torch.cat(\n",
    "            (\n",
    "                torch.zeros(seq_length, dtype=torch.long, device=device),\n",
    "                torch.arange(\n",
    "                    context_length - seq_length, dtype=torch.long, device=device\n",
    "                )\n",
    "                + 1,\n",
    "            )\n",
    "        )\n",
    "        position_ids = torch.stack((position_ids, block_position_ids), dim=0)\n",
    "    else:\n",
    "        position_ids = torch.arange(context_length, dtype=torch.long, device=device)\n",
    "        if not gmask:\n",
    "            position_ids[context_length - 1 :] = mask_position\n",
    "    return attention_mask, position_ids\n",
    "\n",
    "\n",
    "def data_collator(features: list) -> dict:\n",
    "    len_ids = [len(feature[\"input_ids\"]) for feature in features]\n",
    "    longest = max(len_ids)\n",
    "    input_ids = []\n",
    "    attention_mask_list = []\n",
    "    position_ids_list = []\n",
    "    labels_list = []\n",
    "    for ids_l, feature in sorted(zip(len_ids, features), key=lambda x: -x[0]):\n",
    "        ids = feature[\"input_ids\"]\n",
    "        seq_len = feature[\"seq_len\"]\n",
    "        labels = (\n",
    "            [-100] * (seq_len - 1)\n",
    "            + ids[(seq_len - 1) :]\n",
    "            + [-100] * (longest - ids_l)\n",
    "        )\n",
    "        ids = ids + [tokenizer.pad_token_id] * (longest - ids_l)\n",
    "        _ids = torch.LongTensor(ids)\n",
    "        attention_mask, position_ids = get_masks_and_position_ids(\n",
    "            ids, seq_len, longest, _ids.device, gmask=False\n",
    "        )\n",
    "        labels_list.append(torch.LongTensor(labels))\n",
    "        input_ids.append(_ids)\n",
    "        attention_mask_list.append(attention_mask)\n",
    "        position_ids_list.append(position_ids)\n",
    "    input_ids = torch.stack(input_ids)\n",
    "    labels = torch.stack(labels_list)\n",
    "    attention_mask = torch.stack(attention_mask_list)\n",
    "    position_ids = torch.stack(position_ids_list)\n",
    "    return {\n",
    "        \"input_ids\": input_ids,\n",
    "        \"labels\": labels,\n",
    "        \"attention_mask\": attention_mask,\n",
    "        \"position_ids\": position_ids,\n",
    "    }\n",
    "\n",
    "\n",
    "class ModifiedTrainer(Trainer):\n",
    "\n",
    "    def compute_loss(self, model, inputs, return_outputs=False):\n",
    "        return model(\n",
    "            input_ids=inputs[\"input_ids\"],\n",
    "            attention_mask=inputs[\"attention_mask\"],\n",
    "            position_ids=inputs[\"position_ids\"],\n",
    "            labels=inputs[\"labels\"],\n",
    "        ).loss\n",
    "    \n",
    "    def save_model(self, output_dir=None, _internal_call=False):\n",
    "        from transformers.trainer import TRAINING_ARGS_NAME\n",
    "        os.makedirs(output_dir, exist_ok=True)\n",
    "        torch.save(self.args, os.path.join(output_dir, TRAINING_ARGS_NAME))\n",
    "        saved_params = {\n",
    "            k: v.to(\"cpu\") for k, v in self.model.named_parameters() if v.requires_grad\n",
    "        }\n",
    "        torch.save(saved_params, os.path.join(output_dir, \"adapter_model.bin\"))"
   ]
  },
  {
   "cell_type": "code",
   "execution_count": 14,
   "metadata": {},
   "outputs": [
    {
     "name": "stderr",
     "output_type": "stream",
     "text": [
      "/home/wanddy/ChatGLM-6B/.conda/lib/python3.9/site-packages/transformers/optimization.py:391: FutureWarning: This implementation of AdamW is deprecated and will be removed in a future version. Use the PyTorch implementation torch.optim.AdamW instead, or set `no_deprecation_warning=True` to disable this warning\n",
      "  warnings.warn(\n",
      "  3%|▎         | 50/1500 [00:44<20:54,  1.16it/s] "
     ]
    },
    {
     "name": "stdout",
     "output_type": "stream",
     "text": [
      "{'loss': 3.7241, 'learning_rate': 9.666666666666667e-05, 'epoch': 0.1}\n"
     ]
    },
    {
     "name": "stderr",
     "output_type": "stream",
     "text": [
      "  7%|▋         | 100/1500 [01:28<20:19,  1.15it/s]"
     ]
    },
    {
     "name": "stdout",
     "output_type": "stream",
     "text": [
      "{'loss': 2.7612, 'learning_rate': 9.333333333333334e-05, 'epoch': 0.2}\n"
     ]
    },
    {
     "name": "stderr",
     "output_type": "stream",
     "text": [
      " 10%|█         | 150/1500 [02:12<19:53,  1.13it/s]"
     ]
    },
    {
     "name": "stdout",
     "output_type": "stream",
     "text": [
      "{'loss': 2.355, 'learning_rate': 9e-05, 'epoch': 0.3}\n"
     ]
    },
    {
     "name": "stderr",
     "output_type": "stream",
     "text": [
      " 13%|█▎        | 200/1500 [02:57<18:49,  1.15it/s]"
     ]
    },
    {
     "name": "stdout",
     "output_type": "stream",
     "text": [
      "{'loss': 2.0762, 'learning_rate': 8.666666666666667e-05, 'epoch': 0.4}\n"
     ]
    },
    {
     "name": "stderr",
     "output_type": "stream",
     "text": [
      " 17%|█▋        | 250/1500 [03:41<19:12,  1.08it/s]"
     ]
    },
    {
     "name": "stdout",
     "output_type": "stream",
     "text": [
      "{'loss': 2.0795, 'learning_rate': 8.333333333333334e-05, 'epoch': 0.5}\n"
     ]
    },
    {
     "name": "stderr",
     "output_type": "stream",
     "text": [
      " 20%|██        | 300/1500 [04:26<17:40,  1.13it/s]"
     ]
    },
    {
     "name": "stdout",
     "output_type": "stream",
     "text": [
      "{'loss': 2.2493, 'learning_rate': 8e-05, 'epoch': 0.6}\n"
     ]
    },
    {
     "name": "stderr",
     "output_type": "stream",
     "text": [
      " 23%|██▎       | 350/1500 [05:10<16:55,  1.13it/s]"
     ]
    },
    {
     "name": "stdout",
     "output_type": "stream",
     "text": [
      "{'loss': 2.1367, 'learning_rate': 7.666666666666667e-05, 'epoch': 0.7}\n"
     ]
    },
    {
     "name": "stderr",
     "output_type": "stream",
     "text": [
      " 27%|██▋       | 400/1500 [05:55<16:04,  1.14it/s]"
     ]
    },
    {
     "name": "stdout",
     "output_type": "stream",
     "text": [
      "{'loss': 2.4208, 'learning_rate': 7.333333333333333e-05, 'epoch': 0.8}\n"
     ]
    },
    {
     "name": "stderr",
     "output_type": "stream",
     "text": [
      " 30%|███       | 450/1500 [06:39<15:48,  1.11it/s]"
     ]
    },
    {
     "name": "stdout",
     "output_type": "stream",
     "text": [
      "{'loss': 2.2544, 'learning_rate': 7e-05, 'epoch': 0.9}\n"
     ]
    },
    {
     "name": "stderr",
     "output_type": "stream",
     "text": [
      " 33%|███▎      | 500/1500 [07:23<14:44,  1.13it/s]"
     ]
    },
    {
     "name": "stdout",
     "output_type": "stream",
     "text": [
      "{'loss': 2.1252, 'learning_rate': 6.666666666666667e-05, 'epoch': 1.0}\n"
     ]
    },
    {
     "name": "stderr",
     "output_type": "stream",
     "text": [
      " 37%|███▋      | 550/1500 [08:08<14:26,  1.10it/s]"
     ]
    },
    {
     "name": "stdout",
     "output_type": "stream",
     "text": [
      "{'loss': 1.8542, 'learning_rate': 6.333333333333333e-05, 'epoch': 1.1}\n"
     ]
    },
    {
     "name": "stderr",
     "output_type": "stream",
     "text": [
      " 40%|████      | 600/1500 [08:52<13:40,  1.10it/s]"
     ]
    },
    {
     "name": "stdout",
     "output_type": "stream",
     "text": [
      "{'loss': 1.8609, 'learning_rate': 6e-05, 'epoch': 1.2}\n"
     ]
    },
    {
     "name": "stderr",
     "output_type": "stream",
     "text": [
      " 43%|████▎     | 650/1500 [09:37<12:39,  1.12it/s]"
     ]
    },
    {
     "name": "stdout",
     "output_type": "stream",
     "text": [
      "{'loss': 2.0307, 'learning_rate': 5.666666666666667e-05, 'epoch': 1.3}\n"
     ]
    },
    {
     "name": "stderr",
     "output_type": "stream",
     "text": [
      " 47%|████▋     | 700/1500 [10:21<11:53,  1.12it/s]"
     ]
    },
    {
     "name": "stdout",
     "output_type": "stream",
     "text": [
      "{'loss': 1.9528, 'learning_rate': 5.333333333333333e-05, 'epoch': 1.4}\n"
     ]
    },
    {
     "name": "stderr",
     "output_type": "stream",
     "text": [
      " 50%|█████     | 750/1500 [11:05<11:02,  1.13it/s]"
     ]
    },
    {
     "name": "stdout",
     "output_type": "stream",
     "text": [
      "{'loss': 1.7463, 'learning_rate': 5e-05, 'epoch': 1.5}\n"
     ]
    },
    {
     "name": "stderr",
     "output_type": "stream",
     "text": [
      " 53%|█████▎    | 800/1500 [11:49<10:21,  1.13it/s]"
     ]
    },
    {
     "name": "stdout",
     "output_type": "stream",
     "text": [
      "{'loss': 2.0112, 'learning_rate': 4.666666666666667e-05, 'epoch': 1.6}\n"
     ]
    },
    {
     "name": "stderr",
     "output_type": "stream",
     "text": [
      " 57%|█████▋    | 850/1500 [12:33<09:24,  1.15it/s]"
     ]
    },
    {
     "name": "stdout",
     "output_type": "stream",
     "text": [
      "{'loss': 1.7181, 'learning_rate': 4.3333333333333334e-05, 'epoch': 1.7}\n"
     ]
    },
    {
     "name": "stderr",
     "output_type": "stream",
     "text": [
      " 60%|██████    | 900/1500 [13:18<08:52,  1.13it/s]"
     ]
    },
    {
     "name": "stdout",
     "output_type": "stream",
     "text": [
      "{'loss': 1.9337, 'learning_rate': 4e-05, 'epoch': 1.8}\n"
     ]
    },
    {
     "name": "stderr",
     "output_type": "stream",
     "text": [
      " 63%|██████▎   | 950/1500 [14:02<07:56,  1.15it/s]"
     ]
    },
    {
     "name": "stdout",
     "output_type": "stream",
     "text": [
      "{'loss': 1.8854, 'learning_rate': 3.6666666666666666e-05, 'epoch': 1.9}\n"
     ]
    },
    {
     "name": "stderr",
     "output_type": "stream",
     "text": [
      " 67%|██████▋   | 1000/1500 [14:46<07:09,  1.16it/s]"
     ]
    },
    {
     "name": "stdout",
     "output_type": "stream",
     "text": [
      "{'loss': 2.0685, 'learning_rate': 3.3333333333333335e-05, 'epoch': 2.0}\n"
     ]
    },
    {
     "name": "stderr",
     "output_type": "stream",
     "text": [
      " 70%|███████   | 1050/1500 [15:30<06:41,  1.12it/s]"
     ]
    },
    {
     "name": "stdout",
     "output_type": "stream",
     "text": [
      "{'loss': 1.8884, 'learning_rate': 3e-05, 'epoch': 2.1}\n"
     ]
    },
    {
     "name": "stderr",
     "output_type": "stream",
     "text": [
      " 73%|███████▎  | 1100/1500 [16:14<05:48,  1.15it/s]"
     ]
    },
    {
     "name": "stdout",
     "output_type": "stream",
     "text": [
      "{'loss': 1.4312, 'learning_rate': 2.6666666666666667e-05, 'epoch': 2.2}\n"
     ]
    },
    {
     "name": "stderr",
     "output_type": "stream",
     "text": [
      " 77%|███████▋  | 1150/1500 [16:59<05:05,  1.15it/s]"
     ]
    },
    {
     "name": "stdout",
     "output_type": "stream",
     "text": [
      "{'loss': 1.6352, 'learning_rate': 2.3333333333333336e-05, 'epoch': 2.3}\n"
     ]
    },
    {
     "name": "stderr",
     "output_type": "stream",
     "text": [
      " 80%|████████  | 1200/1500 [17:43<04:25,  1.13it/s]"
     ]
    },
    {
     "name": "stdout",
     "output_type": "stream",
     "text": [
      "{'loss': 1.4924, 'learning_rate': 2e-05, 'epoch': 2.4}\n"
     ]
    },
    {
     "name": "stderr",
     "output_type": "stream",
     "text": [
      " 83%|████████▎ | 1250/1500 [18:28<03:42,  1.12it/s]"
     ]
    },
    {
     "name": "stdout",
     "output_type": "stream",
     "text": [
      "{'loss': 1.8612, 'learning_rate': 1.6666666666666667e-05, 'epoch': 2.5}\n"
     ]
    },
    {
     "name": "stderr",
     "output_type": "stream",
     "text": [
      " 87%|████████▋ | 1300/1500 [19:12<02:58,  1.12it/s]"
     ]
    },
    {
     "name": "stdout",
     "output_type": "stream",
     "text": [
      "{'loss': 1.3759, 'learning_rate': 1.3333333333333333e-05, 'epoch': 2.6}\n"
     ]
    },
    {
     "name": "stderr",
     "output_type": "stream",
     "text": [
      " 90%|█████████ | 1350/1500 [19:56<02:11,  1.14it/s]"
     ]
    },
    {
     "name": "stdout",
     "output_type": "stream",
     "text": [
      "{'loss': 1.5722, 'learning_rate': 1e-05, 'epoch': 2.7}\n"
     ]
    },
    {
     "name": "stderr",
     "output_type": "stream",
     "text": [
      " 93%|█████████▎| 1400/1500 [20:41<01:27,  1.15it/s]"
     ]
    },
    {
     "name": "stdout",
     "output_type": "stream",
     "text": [
      "{'loss': 1.602, 'learning_rate': 6.666666666666667e-06, 'epoch': 2.8}\n"
     ]
    },
    {
     "name": "stderr",
     "output_type": "stream",
     "text": [
      " 97%|█████████▋| 1450/1500 [21:25<00:43,  1.14it/s]"
     ]
    },
    {
     "name": "stdout",
     "output_type": "stream",
     "text": [
      "{'loss': 1.8128, 'learning_rate': 3.3333333333333333e-06, 'epoch': 2.9}\n"
     ]
    },
    {
     "name": "stderr",
     "output_type": "stream",
     "text": [
      "100%|██████████| 1500/1500 [22:09<00:00,  1.13it/s]\n"
     ]
    },
    {
     "name": "stdout",
     "output_type": "stream",
     "text": [
      "{'loss': 1.9709, 'learning_rate': 0.0, 'epoch': 3.0}\n",
      "{'train_runtime': 1329.9398, 'train_samples_per_second': 1.128, 'train_steps_per_second': 1.128, 'train_loss': 1.9961961161295574, 'epoch': 3.0}\n"
     ]
    }
   ],
   "source": [
    "training_args = TrainingArguments(\n",
    "    \"output\",\n",
    "    fp16 =False,\n",
    "    gradient_accumulation_steps=1,\n",
    "    per_device_train_batch_size = 1,\n",
    "    learning_rate = 1e-4,\n",
    "    max_steps=1500,\n",
    "    logging_steps=50,\n",
    "    remove_unused_columns=False,\n",
    "    seed=0,\n",
    "    data_seed=0,\n",
    "    group_by_length=False,\n",
    ")\n",
    "\n",
    "\n",
    "trainer = ModifiedTrainer(\n",
    "    model=model,\n",
    "    train_dataset=mini_train_dataset,\n",
    "    args=training_args,\n",
    "    data_collator=data_collator,\n",
    ")\n",
    "trainer.train()\n",
    "# save model\n",
    "model.save_pretrained(training_args.output_dir)"
   ]
  },
  {
   "attachments": {},
   "cell_type": "markdown",
   "metadata": {},
   "source": [
    "## Test After finetune"
   ]
  },
  {
   "cell_type": "code",
   "execution_count": 15,
   "metadata": {},
   "outputs": [
    {
     "name": "stderr",
     "output_type": "stream",
     "text": [
      "/home/wanddy/ChatGLM-6B/.conda/lib/python3.9/site-packages/transformers/generation/utils.py:1374: UserWarning: You are calling .generate() with the `input_ids` being on a device type different than your model's device. `input_ids` is on cpu, whereas the model is on cuda. You may experience unexpected behaviors or slower generation. Please make sure that you have put `input_ids` to the correct device by calling for example input_ids = input_ids.to('cuda') before running `.generate()`.\n",
      "  warnings.warn(\n"
     ]
    },
    {
     "name": "stdout",
     "output_type": "stream",
     "text": [
      "Instruction: 2023年达州市市委书记是谁?\n",
      "Answer: 2023年达州市市委书记是邵革军。\n",
      "### 1.Answer:\n",
      " 2023年达州市市委书记是邵革军。 \n",
      "\n",
      "\n",
      "Instruction: 22023年达州市市长是谁?\n",
      "Answer: 2023年达州市市长是严卫东。\n",
      "### 2.Answer:\n",
      " 2023年达州市市长是严卫东。 \n",
      "\n",
      "\n",
      "Instruction: 什么是三原色?\n",
      "Answer: 三原色是红、蓝、黄。\n",
      "### 3.Answer:\n",
      " 三原色是红、蓝、黄。 \n",
      "\n",
      "\n",
      "Instruction: 描述原子的结构。\n",
      "Answer: 原子由带正电荷的质子和带负电荷的电子组成。质子位于原子核中心,电子围绕原子核运动。质子和电子之间通过库伦力相互作用。\n",
      "### 4.Answer:\n",
      " 原子由原子核组成，原子核包含质子和中子，周围环绕着围绕原子核运行的电子。质子和中子带正电荷，而电子带负电荷，从而形成整体中性原子。每个粒子的数量决定了原子序数和原子类型。 \n",
      "\n",
      "\n",
      "Instruction: 我们怎样才能减少空气污染?\n",
      "Answer: 减少空气污染的方法包括使用清洁能源、限制汽车使用、鼓励公共交通、鼓励骑自行车、鼓励步行、限制工业排放、鼓励使用电动汽车、鼓励使用太阳能和风能、限制使用化石燃料、鼓励使用生物质燃料、鼓励使用空气过滤器、限制使用化石燃料、鼓励使用公共交通、鼓励使用自行车、限制工业排放、鼓励使用电动汽车、鼓励使用生物质燃料、限制使用化石燃料、鼓励使用太阳能和风能、限制使用化石燃料、鼓励使用公共交通、限制使用化石燃料、鼓励使用生物质燃料、限制使用化石燃料、鼓励使用公共交通、限制使用化石燃料、鼓励使用生物质燃料、限制使用化石燃料、鼓励使用公共交通、限制使用\n",
      "### 5.Answer:\n",
      " 减少空气污染的方法有很多，例如转向可再生能源、鼓励使用公共交通工具、禁止燃烧化石燃料、实施工业源减排政策以及实施机动车排放标准。此外，个人可以通过减少汽车使用、避免燃烧木材等材料以及改用节能电器来为减少空气污染做出自己的贡献。 \n",
      "\n",
      "\n"
     ]
    }
   ],
   "source": [
    "from cover_alpaca2jsonl import format_example\n",
    "import json\n",
    "\n",
    "\n",
    "instructions = json.load(open(\"data/alpaca_data.json\",encoding=\"utf-8\"))\n",
    "\n",
    "\n",
    "with torch.no_grad():\n",
    "    for idx, item in enumerate(instructions[:5]):\n",
    "        feature = format_example(item)\n",
    "        input_text = feature[\"context\"]\n",
    "        input_ids = tokenizer.encode(input_text, return_tensors='pt')\n",
    "        out = model.generate(\n",
    "            input_ids=input_ids,\n",
    "            max_length=150,\n",
    "            temperature=0\n",
    "        )\n",
    "        answer = tokenizer.decode(out[0])\n",
    "        print(answer)\n",
    "        item['infer_answer'] = answer\n",
    "        print(f\"### {idx+1}.Answer:\\n\", item.get('output'), '\\n\\n')"
   ]
  },
  {
   "cell_type": "code",
   "execution_count": 20,
   "metadata": {},
   "outputs": [],
   "source": [
    "import os\n",
    "\n",
    "\n",
    "def save_tunable_parameters(model, path):\n",
    "    saved_params = {\n",
    "        k: v.to(\"cpu\")\n",
    "        for k, v in model.named_parameters()\n",
    "        if v.requires_grad\n",
    "    }\n",
    "    torch.save(saved_params, path)\n",
    "\n",
    "\n",
    "save_tunable_parameters(model, os.path.join(\"output\", \"chatglm-lora.pt\"))"
   ]
  }
 ],
 "metadata": {
  "kernelspec": {
   "display_name": "venv",
   "language": "python",
   "name": "python3"
  },
  "language_info": {
   "codemirror_mode": {
    "name": "ipython",
    "version": 3
   },
   "file_extension": ".py",
   "mimetype": "text/x-python",
   "name": "python",
   "nbconvert_exporter": "python",
   "pygments_lexer": "ipython3",
   "version": "3.9.16"
  },
  "orig_nbformat": 4,
  "vscode": {
   "interpreter": {
    "hash": "25273a2a68c96ebac13d7fb9e0db516f9be0772777a0507fe06d682a441a3ba7"
   }
  }
 },
 "nbformat": 4,
 "nbformat_minor": 2
}
